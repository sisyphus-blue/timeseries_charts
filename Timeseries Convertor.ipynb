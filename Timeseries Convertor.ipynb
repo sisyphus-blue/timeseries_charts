{
 "cells": [
  {
   "cell_type": "code",
   "execution_count": 1,
   "id": "f30f8dba-6ed5-4890-8369-bf96d6fc1e3f",
   "metadata": {},
   "outputs": [
    {
     "data": {
      "text/plain": [
       "<Figure size 640x480 with 0 Axes>"
      ]
     },
     "metadata": {},
     "output_type": "display_data"
    },
    {
     "data": {
      "text/plain": [
       "<Figure size 640x480 with 0 Axes>"
      ]
     },
     "metadata": {},
     "output_type": "display_data"
    },
    {
     "data": {
      "text/plain": [
       "<Figure size 640x480 with 0 Axes>"
      ]
     },
     "metadata": {},
     "output_type": "display_data"
    },
    {
     "data": {
      "text/plain": [
       "<Figure size 640x480 with 0 Axes>"
      ]
     },
     "metadata": {},
     "output_type": "display_data"
    }
   ],
   "source": [
    "import pandas as pd\n",
    "import matplotlib.pyplot as plt\n",
    "import os\n",
    "\n",
    "# Function to identify date format\n",
    "def identify_date_format(df):\n",
    "    for col in df.columns:\n",
    "        try:\n",
    "            df[col] = pd.to_datetime(df[col])\n",
    "            return col\n",
    "        except:\n",
    "            continue\n",
    "    raise ValueError(\"No date column found\")\n",
    "\n",
    "# Function to resample data\n",
    "def resample_data(df, freq):\n",
    "    resampled_df = df.resample(freq).mean().interpolate()\n",
    "    return resampled_df\n",
    "\n",
    "# Specify the input file path\n",
    "input_file = r'C:\\Users\\ardas\\Downloads\\Input\\ab.xlsx'\n",
    "\n",
    "# Read the input Excel file\n",
    "df = pd.read_excel(input_file)\n",
    "\n",
    "# Identify the date column\n",
    "date_col = identify_date_format(df)\n",
    "\n",
    "# Set the date column as index\n",
    "df.set_index(date_col, inplace=True)\n",
    "\n",
    "# Define resampling frequencies\n",
    "frequencies = {\n",
    "    'daily': 'D',\n",
    "    'weekly': 'W',\n",
    "    'monthly': 'M',\n",
    "    'yearly': 'Y'\n",
    "}\n",
    "\n",
    "# Create a writer for the Excel file (using default engine)\n",
    "output_file = r'C:\\Users\\ardas\\Downloads\\resampled_timeseries_data.xlsx'\n",
    "writer = pd.ExcelWriter(output_file, engine='openpyxl')\n",
    "\n",
    "# Create a folder for the plots\n",
    "plot_folder = r'C:\\Users\\ardas\\Downloads\\timeseries_plots'\n",
    "os.makedirs(plot_folder, exist_ok=True)\n",
    "\n",
    "# Loop through frequencies, resample, save to Excel, and plot\n",
    "for freq_name, freq in frequencies.items():\n",
    "    resampled_df = resample_data(df, freq)\n",
    "    resampled_df.to_excel(writer, sheet_name=freq_name.capitalize())\n",
    "\n",
    "    # Plot the resampled data\n",
    "    plt.figure()\n",
    "    resampled_df.plot(title=f'{freq_name.capitalize()} Data')\n",
    "    plot_path = os.path.join(plot_folder, f'{freq_name}_timeseries_plot.png')\n",
    "    plt.savefig(plot_path)\n",
    "    plt.close()\n",
    "\n",
    "# Save the Excel file\n",
    "writer.close()\n"
   ]
  },
  {
   "cell_type": "code",
   "execution_count": null,
   "id": "ba8bd0f9-e7e2-429a-8a3a-2de2c6407f9a",
   "metadata": {},
   "outputs": [],
   "source": []
  }
 ],
 "metadata": {
  "kernelspec": {
   "display_name": "Python 3 (ipykernel)",
   "language": "python",
   "name": "python3"
  },
  "language_info": {
   "codemirror_mode": {
    "name": "ipython",
    "version": 3
   },
   "file_extension": ".py",
   "mimetype": "text/x-python",
   "name": "python",
   "nbconvert_exporter": "python",
   "pygments_lexer": "ipython3",
   "version": "3.11.7"
  }
 },
 "nbformat": 4,
 "nbformat_minor": 5
}
